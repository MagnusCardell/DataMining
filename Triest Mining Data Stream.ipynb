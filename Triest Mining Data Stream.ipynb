{
 "cells": [
  {
   "cell_type": "code",
   "execution_count": 1,
   "metadata": {},
   "outputs": [
    {
     "data": {
      "text/plain": [
       "fileName = roadNet-CA/out.roadNet-CA\n",
       "dataFile = List(List(1, 2), List(1, 3), List(1, 4), List(2, 5), List(2, 6), List(3, 7), List(4, 8), List(4, 9), List(5, 10), List(6, 11), List(6, 12), List(7, 13), List(7, 14), List(7, 15), List(8, 19), List(8, 388), List(9, 15), List(10, 13), List(10, 16), List(11, 309), List(11, 797), List(12, 330), List(12, 723), List(12, 728), List(13, 16), List(13, 17), List(14, 17), List(14, 18), List(15, 19), List(15, 20), List(16, 21), List(16, 22), List(17, 23), List(18, 20), List(18, 23), List(18, 884), List(19, 384), List(19, 390), List(20, 390), List(2...\n"
      ]
     },
     "metadata": {},
     "output_type": "display_data"
    },
    {
     "data": {
      "text/plain": [
       "List(List(1, 2), List(1, 3), List(1, 4), List(2, 5), List(2, 6), List(3, 7), List(4, 8), List(4, 9), List(5, 10), List(6, 11), List(6, 12), List(7, 13), List(7, 14), List(7, 15), List(8, 19), List(8, 388), List(9, 15), List(10, 13), List(10, 16), List(11, 309), List(11, 797), List(12, 330), List(12, 723), List(12, 728), List(13, 16), List(13, 17), List(14, 17), List(14, 18), List(15, 19), List(15, 20), List(16, 21), List(16, 22), List(17, 23), List(18, 20), List(18, 23), List(18, 884), List(19, 384), List(19, 390), List(20, 390), List(2..."
      ]
     },
     "execution_count": 1,
     "metadata": {},
     "output_type": "execute_result"
    }
   ],
   "source": [
    "import org.apache.spark.graphx._\n",
    "import org.apache.spark._\n",
    "import org.apache.spark.rdd.RDD\n",
    "import scala.collection.mutable.ArrayBuffer\n",
    "import scala.io.Source\n",
    "import java.util.Random\n",
    "\n",
    "val fileName = \"roadNet-CA/out.roadNet-CA\"\n",
    "val dataFile = Source.fromFile(fileName).getLines.map(row => row.split(\" \").map(item => item.toInt).toList).toList\n"
   ]
  },
  {
   "cell_type": "code",
   "execution_count": 2,
   "metadata": {},
   "outputs": [
    {
     "data": {
      "text/plain": [
       "Name: Syntax Error.\n",
       "Message: \n",
       "StackTrace: "
      ]
     },
     "execution_count": 2,
     "metadata": {},
     "output_type": "execute_result"
    }
   ],
   "source": [
    "//val neighbourhoods = graph.reverse.collectNeighborIds(EdgeDirection.Out)\n",
    "//graph.edges.foreach(println)\n",
    "\n",
    "//neighbourhoods.foreach(println)\n",
    "\n",
    "//graph.triplets.take(3).foreach(println)"
   ]
  },
  {
   "cell_type": "code",
   "execution_count": 3,
   "metadata": {},
   "outputs": [
    {
     "name": "stdout",
     "output_type": "stream",
     "text": [
      "List(1154, 1159)\n",
      "List(7093, 7094)\n",
      "List(10915, 10929)\n",
      "List(17713, 17740)\n",
      "List(18805, 18822)\n",
      "List(26416, 26418)\n",
      "List(35224, 35228)\n",
      "List(56776, 56783)\n",
      "List(66664, 67379)\n",
      "List(67585, 67586)\n",
      "List(129301, 129306)\n",
      "List(171287, 171616)\n",
      "List(181014, 181016)\n",
      "List(186376, 218072)\n",
      "List(239588, 239593)\n",
      "List(246722, 246724)\n",
      "List(268081, 268086)\n",
      "List(286463, 286464)\n",
      "List(290444, 290446)\n",
      "List(293673, 293675)\n",
      "List(296400, 296429)\n",
      "List(311310, 311389)\n",
      "List(331035, 331039)\n",
      "List(350158, 403063)\n",
      "List(373929, 373949)\n",
      "List(387791, 387801)\n",
      "List(419690, 419701)\n",
      "List(425962, 425963)\n",
      "List(427740, 427742)\n",
      "List(431994, 431995)\n",
      "List(436941, 436988)\n",
      "List(457940, 458549)\n",
      "List(486269, 1038459)\n",
      "List(507058, 507117)\n",
      "List(568150, 568156)\n",
      "List(578746, 578753)\n",
      "List(596410, 596412)\n",
      "List(609811, 609971)\n",
      "List(644911, 644920)\n",
      "List(669092, 669095)\n",
      "List(688084, 688092)\n",
      "List(740413, 740414)\n",
      "List(746987, 746988)\n",
      "List(763589, 763590)\n",
      "List(808133, 808137)\n",
      "List(853513, 853514)\n",
      "List(906943, 906986)\n",
      "List(911762, 911766)\n",
      "List(913887, 914187)\n",
      "List(925368, 925372)\n",
      "List(945432, 945476)\n",
      "List(980031, 980036)\n",
      "List(1006384, 1006400)\n",
      "List(1028247, 1028248)\n",
      "List(1030385, 1030398)\n",
      "List(1039682, 1039684)\n",
      "List(1106293, 1151314)\n",
      "List(1109076, 1109083)\n",
      "List(1123698, 1123699)\n",
      "List(1145942, 1145944)\n",
      "List(1147420, 1147427)\n",
      "List(1181942, 1182997)\n",
      "List(1212194, 1212195)\n",
      "List(1212735, 1212754)\n",
      "List(1219582, 1220082)\n",
      "List(1229211, 1230462)\n",
      "List(1238048, 1238053)\n",
      "List(1256633, 1256634)\n",
      "List(1279054, 1279056)\n",
      "List(1286821, 1286843)\n",
      "List(1334658, 1334660)\n",
      "List(1341729, 1341732)\n",
      "List(1396046, 1396646)\n",
      "List(1401221, 1401260)\n",
      "List(1423195, 1423199)\n",
      "List(1466695, 1468240)\n",
      "List(1510088, 1510091)\n",
      "List(1527346, 1527352)\n",
      "List(1551273, 1551279)\n",
      "List(1555612, 1555617)\n",
      "List(1557066, 1557069)\n",
      "List(1568667, 1587124)\n",
      "List(1579704, 1579708)\n",
      "List(1588544, 1588555)\n",
      "List(1603229, 1611871)\n",
      "List(1620257, 1620262)\n",
      "List(1643371, 1643438)\n",
      "List(1650977, 1650983)\n",
      "List(1653277, 1653312)\n",
      "List(1669859, 1669863)\n",
      "List(1695635, 1696352)\n",
      "List(1701755, 1701830)\n",
      "List(1709225, 1709229)\n",
      "List(1783206, 1783231)\n",
      "List(1804704, 1804708)\n",
      "List(1807692, 1807707)\n",
      "List(1831501, 1831502)\n",
      "List(1872339, 1872342)\n",
      "List(1898609, 1898611)\n",
      "List(1921057, 1921059)\n",
      "5\n"
     ]
    },
    {
     "data": {
      "text/plain": [
       "S = ArrayBuffer(List(1154, 1159), List(7093, 7094), List(10915, 10929), List(17713, 17740), List(18805, 18822), List(26416, 26418), List(35224, 35228), List(56776, 56783), List(66664, 67379), List(67585, 67586), List(129301, 129306), List(171287, 171616), List(181014, 181016), List(186376, 218072), List(239588, 239593), List(246722, 246724), List(268081, 268086), List(286463, 286464), List(290444, 290446), List(293673, 293675), List(296400, 296429), List(311310, 311389), List(331035, 331039), List(350158, 403063), List(373929, 373949), List(387791, 387801), List(419690, 419701), List(425962, 425963), List(427740, 427742), List(431994, 431995), List(436941, 436988), List(457940, 458549), List(486269, 1038459), List(507058, 507117), List(56...\n"
      ]
     },
     "metadata": {},
     "output_type": "display_data"
    },
    {
     "data": {
      "text/plain": [
       "ArrayBuffer(List(1154, 1159), List(7093, 7094), List(10915, 10929), List(17713, 17740), List(18805, 18822), List(26416, 26418), List(35224, 35228), List(56776, 56783), List(66664, 67379), List(67585, 67586), List(129301, 129306), List(171287, 171616), List(181014, 181016), List(186376, 218072), List(239588, 239593), List(246722, 246724), List(268081, 268086), List(286463, 286464), List(290444, 290446), List(293673, 293675), List(296400, 296429), List(311310, 311389), List(331035, 331039), List(350158, 403063), List(373929, 373949), List(387791, 387801), List(419690, 419701), List(425962, 425963), List(427740, 427742), List(431994, 431995), List(436941, 436988), List(457940, 458549), List(486269, 1038459), List(507058, 507117), List(56..."
      ]
     },
     "execution_count": 3,
     "metadata": {},
     "output_type": "execute_result"
    }
   ],
   "source": [
    "var S = ArrayBuffer.empty[List[Int]]\n",
    "val random = new Random()\n",
    "var tau = 0\n",
    "var t = 0\n",
    "val M = 100\n",
    "\n",
    "def updateCounters(op: Int, edge:List[Int]): Unit = {\n",
    "    val neighborhood_1 = dataFile.filter(item => item(0) == edge(0)).map(item => item(1)).toSet\n",
    "    val neighborhood_2 = dataFile.filter(item => item(0) == edge(1)).map(item => item(1)).toSet\n",
    "    val common_neighbors = neighborhood_1.intersect(neighborhood_2)\n",
    "    tau = tau + op * common_neighbors.size\n",
    "}\n",
    "\n",
    "def FlipBiasedCoin(prob: Float): Boolean = {\n",
    "    return random.nextFloat() < prob\n",
    "}\n",
    "def ReservoirSample(t: Int, M: Int, e: List[Int]): Boolean = {\n",
    "\n",
    "    if(t <= M) {\n",
    "        return true\n",
    "    }\n",
    "    else if(FlipBiasedCoin(M.toFloat/t) == true){\n",
    "        val r = new scala.util.Random()\n",
    "        val randomEdgeIndex = r.nextInt(M)\n",
    "        val randomEdge = S(randomEdgeIndex)\n",
    "        S.remove(randomEdgeIndex)\n",
    "        updateCounters(-1, randomEdge)\n",
    "        \n",
    "        return true\n",
    "    }\n",
    "    return false\n",
    "}\n",
    "\n",
    "dataFile.foreach(e =>{\n",
    "    t = t+1\n",
    "    if( ReservoirSample(t, M, e) ) {\n",
    "        S += e\n",
    "        updateCounters(1, e)\n",
    "    }\n",
    "})\n",
    "S.foreach(println)\n",
    "println(tau)\n"
   ]
  },
  {
   "cell_type": "code",
   "execution_count": null,
   "metadata": {},
   "outputs": [],
   "source": []
  },
  {
   "cell_type": "code",
   "execution_count": null,
   "metadata": {},
   "outputs": [],
   "source": []
  }
 ],
 "metadata": {
  "kernelspec": {
   "display_name": "Spark - Scala",
   "language": "scala",
   "name": "spark_scala"
  },
  "language_info": {
   "codemirror_mode": "text/x-scala",
   "file_extension": ".scala",
   "mimetype": "text/x-scala",
   "name": "scala",
   "pygments_lexer": "scala",
   "version": "2.11.12"
  }
 },
 "nbformat": 4,
 "nbformat_minor": 2
}
