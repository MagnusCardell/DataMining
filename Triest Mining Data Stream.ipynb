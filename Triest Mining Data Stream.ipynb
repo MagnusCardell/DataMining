{
 "cells": [
  {
   "cell_type": "code",
   "execution_count": 1,
   "metadata": {},
   "outputs": [
    {
     "data": {
      "text/plain": [
       "fileName = roadNet-CA/out.roadNet-CA\n",
       "graph = org.apache.spark.graphx.impl.GraphImpl@42e6580b\n"
      ]
     },
     "metadata": {},
     "output_type": "display_data"
    },
    {
     "data": {
      "text/plain": [
       "org.apache.spark.graphx.impl.GraphImpl@42e6580b"
      ]
     },
     "execution_count": 1,
     "metadata": {},
     "output_type": "execute_result"
    }
   ],
   "source": [
    "import org.apache.spark.graphx._\n",
    "import org.apache.spark._\n",
    "import org.apache.spark.rdd.RDD\n",
    "import scala.collection.mutable.ArrayBuffer\n",
    "\n",
    "val fileName = \"roadNet-CA/out.roadNet-CA\"\n",
    "val graph = GraphLoader.edgeListFile(sc, fileName)\n"
   ]
  },
  {
   "cell_type": "code",
   "execution_count": null,
   "metadata": {},
   "outputs": [],
   "source": [
    "//val neighbourhoods = graph.reverse.collectNeighborIds(EdgeDirection.Out)\n",
    "//graph.edges.foreach(println)\n",
    "\n",
    "//neighbourhoods.foreach(println)\n",
    "\n",
    "//graph.triplets.take(3).foreach(println)"
   ]
  },
  {
   "cell_type": "code",
   "execution_count": 2,
   "metadata": {},
   "outputs": [
    {
     "data": {
      "text/plain": [
       "FlipBiasedCoin: (prob: Float)Boolean\n",
       "ReservoirSample: (t: Int, M: Int, e: org.apache.spark.graphx.Edge[Int])Boolean\n"
      ]
     },
     "metadata": {},
     "output_type": "display_data"
    }
   ],
   "source": [
    "\n",
    "def FlipBiasedCoin(prob: Float): Boolean = {\n",
    "    val r = new scala.util.Random()\n",
    "    val coin = r.nextInt()\n",
    "    return coin < prob\n",
    "}\n",
    "def ReservoirSample(t: Int, M: Int, e: Edge[Int]): Boolean = {\n",
    "\n",
    "    if(t <= M) return true\n",
    "    \n",
    "    else if(FlipBiasedCoin(M/t) == true){\n",
    "        val r = new scala.util.Random()\n",
    "        val randomEdgeIndex = r.nextInt(M)\n",
    "        //val randomEdge = S(randomEdgeIndex)\n",
    "        //val newS = S.remove(randomEdgeIndex)\n",
    "        //UpdateCounters()\n",
    "        \n",
    "        true\n",
    "    }\n",
    "    false\n",
    "}\n"
   ]
  },
  {
   "cell_type": "code",
   "execution_count": null,
   "metadata": {},
   "outputs": [
    {
     "name": "stdout",
     "output_type": "stream",
     "text": [
      "ArrayBuffer(Edge(56651,56652,1), Edge(324182,325186,1), Edge(1140392,1140399,1), Edge(497503,497592,1), Edge(688803,688853,1), Edge(1422497,1426108,1), Edge(1738391,1738393,1), Edge(976837,976841,1), Edge(1058461,1058472,1), Edge(507379,507390,1))\n",
      "Edge(56651,56652,1)\n",
      "Edge(324182,325186,1)\n",
      "Edge(1140392,1140399,1)\n",
      "Edge(497503,497592,1)\n",
      "Edge(688803,688853,1)\n",
      "Edge(1422497,1426108,1)\n",
      "Edge(1738391,1738393,1)\n",
      "Edge(976837,976841,1)\n",
      "Edge(1058461,1058472,1)\n",
      "Edge(507379,507390,1)\n"
     ]
    }
   ],
   "source": [
    "var S = ArrayBuffer.empty[Edge[Int]]\n",
    "var t = 0\n",
    "val M = 10\n",
    "\n",
    "\n",
    "\n",
    "val G = graph.edges.collect().toSet\n",
    "\n",
    "G.foreach(e =>{\n",
    "    t = t+1\n",
    "\n",
    "    if( ReservoirSample(t, M, e) ) {\n",
    "        S += e\n",
    "        //UpdateCOunters\n",
    "    }\n",
    "})\n",
    "println(S)\n",
    "S.foreach(println)"
   ]
  },
  {
   "cell_type": "code",
   "execution_count": null,
   "metadata": {},
   "outputs": [],
   "source": []
  }
 ],
 "metadata": {
  "kernelspec": {
   "display_name": "Spark - Scala",
   "language": "scala",
   "name": "spark_scala"
  },
  "language_info": {
   "codemirror_mode": "text/x-scala",
   "file_extension": ".scala",
   "mimetype": "text/x-scala",
   "name": "scala",
   "pygments_lexer": "scala",
   "version": "2.11.12"
  }
 },
 "nbformat": 4,
 "nbformat_minor": 2
}
