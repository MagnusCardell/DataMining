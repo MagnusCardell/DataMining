{
 "cells": [
  {
   "cell_type": "code",
   "execution_count": 16,
   "metadata": {},
   "outputs": [
    {
     "data": {
      "text/plain": [
       "fileName = roadNet-CA/out.roadNet-CA\n",
       "edgeRDD = MapPartitionsRDD[16] at map at <console>:39\n",
       "graph = org.apache.spark.graphx.impl.GraphImpl@4dd2b195\n"
      ]
     },
     "metadata": {},
     "output_type": "display_data"
    },
    {
     "data": {
      "text/plain": [
       "org.apache.spark.graphx.impl.GraphImpl@4dd2b195"
      ]
     },
     "execution_count": 16,
     "metadata": {},
     "output_type": "execute_result"
    }
   ],
   "source": [
    "import org.apache.spark.graphx._\n",
    "import org.apache.spark.rdd.RDD\n",
    "\n",
    "val fileName = \"roadNet-CA/out.roadNet-CA\"\n",
    "\n",
    "var edgeRDD: RDD[Edge[Int]] = sc.textFile(fileName).map(x => (x.split(\" \").map(i => i.toInt))).map(row => Edge(row(0), row(1), 1))\n",
    "   \n",
    "\n",
    "//val vertexRDD: RDD[(String, Int)] = sc.parallelize()\n",
    "val graph: Graph[Int, Int] =  Graph.fromEdges(edgeRDD, defaultValue = 1).cache()\n"
   ]
  },
  {
   "cell_type": "code",
   "execution_count": 19,
   "metadata": {},
   "outputs": [
    {
     "name": "stdout",
     "output_type": "stream",
     "text": [
      "(1080592,1)\n",
      "(672890,1)\n",
      "(194402,1)\n",
      "(1056524,1)\n",
      "(1745166,1)\n"
     ]
    }
   ],
   "source": [
    "graph.vertices.take(5).foreach(println)\n",
    "\n",
    "graph.vertices.foreach()"
   ]
  }
 ],
 "metadata": {
  "kernelspec": {
   "display_name": "Spark - Scala",
   "language": "scala",
   "name": "spark_scala"
  },
  "language_info": {
   "codemirror_mode": "text/x-scala",
   "file_extension": ".scala",
   "mimetype": "text/x-scala",
   "name": "scala",
   "pygments_lexer": "scala",
   "version": "2.11.12"
  }
 },
 "nbformat": 4,
 "nbformat_minor": 2
}
