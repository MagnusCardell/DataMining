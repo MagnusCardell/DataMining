{
 "cells": [
  {
   "cell_type": "code",
   "execution_count": 2,
   "metadata": {},
   "outputs": [
    {
     "data": {
      "text/plain": [
       "fileName = roadNet-CA/out.roadNet-CA\n",
       "dataFile = List(List(1, 2), List(1, 3), List(1, 4), List(2, 5), List(2, 6), List(3, 7), List(4, 8), List(4, 9), List(5, 10), List(6, 11), List(6, 12), List(7, 13), List(7, 14), List(7, 15), List(8, 19), List(8, 388), List(9, 15), List(10, 13), List(10, 16), List(11, 309), List(11, 797), List(12, 330), List(12, 723), List(12, 728), List(13, 16), List(13, 17), List(14, 17), List(14, 18), List(15, 19), List(15, 20), List(16, 21), List(16, 22), List(17, 23), List(18, 20), List(18, 23), List(18, 884), List(19, 384), List(19, 390),...\n"
      ]
     },
     "metadata": {},
     "output_type": "display_data"
    },
    {
     "data": {
      "text/plain": [
       "List(List(1, 2), List(1, 3), List(1, 4), List(2, 5), List(2, 6), List(3, 7), List(4, 8), List(4, 9), List(5, 10), List(6, 11), List(6, 12), List(7, 13), List(7, 14), List(7, 15), List(8, 19), List(8, 388), List(9, 15), List(10, 13), List(10, 16), List(11, 309), List(11, 797), List(12, 330), List(12, 723), List(12, 728), List(13, 16), List(13, 17), List(14, 17), List(14, 18), List(15, 19), List(15, 20), List(16, 21), List(16, 22), List(17, 23), List(18, 20), List(18, 23), List(18, 884), List(19, 384), List(19, 390),..."
      ]
     },
     "execution_count": 2,
     "metadata": {},
     "output_type": "execute_result"
    }
   ],
   "source": [
    "import org.apache.spark.graphx._\n",
    "import org.apache.spark._\n",
    "import org.apache.spark.rdd.RDD\n",
    "import scala.collection.mutable.ArrayBuffer\n",
    "import scala.io.Source\n",
    "import java.util.Random\n",
    "import scala.math.max\n",
    "\n",
    "val fileName = \"roadNet-CA/out.roadNet-CA\"\n",
    "val dataFile = Source.fromFile(fileName).getLines.map(row => row.split(\" \").map(item => item.toInt).toList).toList\n"
   ]
  },
  {
   "cell_type": "code",
   "execution_count": null,
   "metadata": {},
   "outputs": [],
   "source": [
    "var S = ArrayBuffer.empty[List[Int]]\n",
    "val random = new Random()\n",
    "var tau = 0.0\n",
    "var t = 0\n",
    "val M = 100\n",
    "\n",
    "def updateCounters(op: Int, edge:List[Int]): Unit = {\n",
    "    val neighborhood_1 = dataFile.filter(item => item(0) == edge(0)).map(item => item(1)).toSet\n",
    "    val neighborhood_2 = dataFile.filter(item => item(0) == edge(1)).map(item => item(1)).toSet\n",
    "    val common_neighbors = neighborhood_1.intersect(neighborhood_2)\n",
    "    val temp = max(1, (t - 1)*(t - 2)/(M * (M - 1)))\n",
    "    tau = tau + op * common_neighbors.size + temp\n",
    "}\n",
    "\n",
    "def FlipBiasedCoin(prob: Float): Boolean = {\n",
    "    return random.nextFloat() < prob\n",
    "}\n",
    "def ReservoirSample(t: Int, M: Int, e: List[Int]): Boolean = {\n",
    "\n",
    "    if(t <= M) {\n",
    "        return true\n",
    "    }\n",
    "    else if(FlipBiasedCoin(M.toFloat/t) == true){\n",
    "        val r = new scala.util.Random()\n",
    "        val randomEdgeIndex = r.nextInt(M)\n",
    "        val randomEdge = S(randomEdgeIndex)\n",
    "        S.remove(randomEdgeIndex)\n",
    "//         updateCounters(-1, randomEdge)\n",
    "        return true\n",
    "    }\n",
    "    return false\n",
    "}\n",
    "\n",
    "dataFile.foreach(e =>{\n",
    "    t = t+1\n",
    "    updateCounters(1, e)\n",
    "    if( ReservoirSample(t, M, e) ) {\n",
    "        S += e\n",
    "    }\n",
    "})\n",
    "S.foreach(println)\n",
    "println(tau)\n"
   ]
  },
  {
   "cell_type": "code",
   "execution_count": null,
   "metadata": {},
   "outputs": [],
   "source": []
  }
 ],
 "metadata": {
  "kernelspec": {
   "display_name": "Spark - Scala",
   "language": "scala",
   "name": "spark_scala"
  },
  "language_info": {
   "codemirror_mode": "text/x-scala",
   "file_extension": ".scala",
   "mimetype": "text/x-scala",
   "name": "scala",
   "pygments_lexer": "scala",
   "version": "2.11.12"
  }
 },
 "nbformat": 4,
 "nbformat_minor": 2
}
