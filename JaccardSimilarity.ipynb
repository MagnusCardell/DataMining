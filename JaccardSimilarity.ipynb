{
 "cells": [
  {
   "cell_type": "code",
   "execution_count": 5,
   "metadata": {},
   "outputs": [
    {
     "data": {
      "text/plain": [
       "fileName1 = dataset_abstracts/a9000006.txt\n",
       "fileName2 = dataset_abstracts/a9000031.txt\n",
       "rows1 = MapPartitionsRDD[23] at map at <console>:36\n",
       "text1 = Commercial exploitation over the past two hundred years drovethe great Mysticete whales to near extinction. Variation inthe sizes of populations prior to exploitation, minimalpopulation size during exploitation and current populationsizes permit analyses of the effects of differing levels ofexploitation on species with different biogeographicaldistributions and life-history characteristics. Dr. StephenPalumbi at the University of Hawaii will study the geneticpopulation structure of three whale species in this context,the Humpback Whale, the Gray Whale and the Bowhead Whale. Theeffect of...\n"
      ]
     },
     "metadata": {},
     "output_type": "display_data"
    },
    {
     "data": {
      "text/plain": [
       "Commercial exploitation over the past two hundred years drovethe great Mysticete whales to near extinction. Variation inthe sizes of populations prior to exploitation, minimalpopulation size during exploitation and current populationsizes permit analyses of the effects of differing levels ofexploitation on species with different biogeographicaldistributions and life-history characteristics. Dr. StephenPalumbi at the University of Hawaii will study the geneticpopulation structure of three whale species in this context,the Humpback Whale, the Gray Whale and the Bowhead Whale. Theeffect of..."
      ]
     },
     "execution_count": 5,
     "metadata": {},
     "output_type": "execute_result"
    }
   ],
   "source": [
    "//input\n",
    "val fileName1 = \"dataset_abstracts/a9000006.txt\"\n",
    "val fileName2 = \"dataset_abstracts/a9000031.txt\"\n",
    "\n",
    "val rows1 = sc.textFile(fileName1).map(line=>line.trim().replaceAll(\"(\\\\s)+\", \" \")).cache()\n",
    "val text1 = rows1.reduce(_ + _)\n",
    "\n",
    "val rows2 = sc.textFile(fileName2).map(line=>line.trim().replaceAll(\"(\\\\s)+\", \" \")).cache()\n",
    "val text2 = rows2.reduce(_ + _)"
   ]
  },
  {
   "cell_type": "code",
   "execution_count": 7,
   "metadata": {},
   "outputs": [
    {
     "data": {
      "text/plain": [
       "k = 5\n",
       "k_gram1 = List((-368554769,\"\"), (-2116654235,\"\"), (1348093184,\"\"), (-713942165,\"\"), (154171951,\"\"), (-1539835203,\"\"), (621014717,\"\"), (-702057327,\"\"), (1061980120,\"\"), (-1210501041,\"\"), (-1777376094,\"\"), (-2146599456,\"\"), (1638764184,\"\"), (2132630876,\"\"), (-558803310,\"\"), (-1704996955,\"\"), (1554848983,\"\"), (-643897612,\"\"), (277879516,\"\"), (1658643371,\"\"), (-239693190,\"\"), (-1096516904,\"\"), (1369629706,\"\"), (2053951917,\"\"), (1404211726,\"\"), (-496476476,\"\"), (66848233,\"\"), (-297738899,\"\"), (1003038978,\"\"), (229228928,\"\"), (-120662840,\"\"), (1068215916,\"\"), (-475916955,\"\"), (-443907787,\"\"), (2075776880,\"\"), (230583223,\"\"), (1330534066,\"\"), (-1120787669,\"\"), (-1584074738,\"\"), (-1702092513,\"\"), (1354781654,\"\"), (-1494390031,\"\"), (-310258093,\"\"), (1911875298,\"\")...\n"
      ]
     },
     "metadata": {},
     "output_type": "display_data"
    },
    {
     "data": {
      "text/plain": [
       "List((-368554769,\"\"), (-2116654235,\"\"), (1348093184,\"\"), (-713942165,\"\"), (154171951,\"\"), (-1539835203,\"\"), (621014717,\"\"), (-702057327,\"\"), (1061980120,\"\"), (-1210501041,\"\"), (-1777376094,\"\"), (-2146599456,\"\"), (1638764184,\"\"), (2132630876,\"\"), (-558803310,\"\"), (-1704996955,\"\"), (1554848983,\"\"), (-643897612,\"\"), (277879516,\"\"), (1658643371,\"\"), (-239693190,\"\"), (-1096516904,\"\"), (1369629706,\"\"), (2053951917,\"\"), (1404211726,\"\"), (-496476476,\"\"), (66848233,\"\"), (-297738899,\"\"), (1003038978,\"\"), (229228928,\"\"), (-120662840,\"\"), (1068215916,\"\"), (-475916955,\"\"), (-443907787,\"\"), (2075776880,\"\"), (230583223,\"\"), (1330534066,\"\"), (-1120787669,\"\"), (-1584074738,\"\"), (-1702092513,\"\"), (1354781654,\"\"), (-1494390031,\"\"), (-310258093,\"\"), (1911875298,\"\")..."
      ]
     },
     "execution_count": 7,
     "metadata": {},
     "output_type": "execute_result"
    }
   ],
   "source": [
    "//k-gram\n",
    "val k = 5\n",
    "val k_gram1 = text1.split(\"\").sliding(k).toList.map(x => (scala.util.hashing.MurmurHash3.arrayHash(x), \"\"))\n",
    "val kgramRDD1 = sc.parallelize(k_gram1)\n",
    "val filtered1 = kgramRDD1.distinct()\n",
    "\n",
    "val k_gram2 = text2.split(\"\").sliding(k).toList.map(x => (scala.util.hashing.MurmurHash3.arrayHash(x), \"\"))\n",
    "val kgramRDD2 = sc.parallelize(k_gram2)\n",
    "val filtered2 = kgramRDD2.distinct()\n",
    "\n",
    "\n"
   ]
  },
  {
   "cell_type": "code",
   "execution_count": 9,
   "metadata": {},
   "outputs": [
    {
     "name": "stdout",
     "output_type": "stream",
     "text": [
      "0.51371205\n",
      "0.48628795\n"
     ]
    },
    {
     "data": {
      "text/plain": [
       "join = MapPartitionsRDD[52] at leftOuterJoin at <console>:35\n",
       "join_n = 1049.0\n",
       "union = MapPartitionsRDD[56] at distinct at <console>:37\n",
       "union_n = 2042.0\n",
       "sim = 0.51371205\n",
       "jacc_dist = 0.48628795\n"
      ]
     },
     "metadata": {},
     "output_type": "display_data"
    },
    {
     "data": {
      "text/plain": [
       "0.48628795"
      ]
     },
     "execution_count": 9,
     "metadata": {},
     "output_type": "execute_result"
    }
   ],
   "source": [
    "\n",
    "val join = filtered1.leftOuterJoin(filtered2)\n",
    "val join_n = join.count().toFloat\n",
    "val union = filtered1.union(filtered2).distinct()\n",
    "val union_n = union.count().toFloat\n",
    "\n",
    "val sim = join_n / union_n\n",
    "val jacc_dist = 1-sim\n",
    "\n",
    "println(sim)\n",
    "println(jacc_dist)\n"
   ]
  },
  {
   "cell_type": "markdown",
   "metadata": {},
   "source": [
    "Now we work with Min-hashing"
   ]
  },
  {
   "cell_type": "code",
   "execution_count": 50,
   "metadata": {},
   "outputs": [
    {
     "data": {
      "text/plain": [
       "Name: Unknown Error\n",
       "Message: <console>:51: error: value cast is not a member of Int\n",
       "           val min = filtered1.map(s => s._1.cast(LongType)).reduce((x,y) => hashThis(a, b, x) min hashThis(a, b, y) )\n",
       "                                             ^\n",
       "<console>:51: error: not found: value LongType\n",
       "           val min = filtered1.map(s => s._1.cast(LongType)).reduce((x,y) => hashThis(a, b, x) min hashThis(a, b, y) )\n",
       "                                                  ^\n",
       "\n",
       "StackTrace: "
      ]
     },
     "execution_count": 50,
     "metadata": {},
     "output_type": "execute_result"
    }
   ],
   "source": [
    "//Min-hashing\n",
    "\n",
    "val p = 1073676287\n",
    "val m = p + 1\n",
    "def hashThis(a:Long, b:Long, x:Long): Long = {\n",
    "    ((a*x + b) % p ) % m\n",
    "}\n",
    "\n",
    "//TODO: Outer loop: foreach document in set of documents\n",
    "var doc_signature:Array[Long] = new Array[Long](100)\n",
    "for(i<-0 to 1){\n",
    "    \n",
    "    val r = new scala.util.Random(i)\n",
    "    val a2 = r.nextInt(p-1)\n",
    "    val a = if(a2%2==0) a2+1 else a2\n",
    "    val b = r.nextInt(p-1)\n",
    "    \n",
    "    val min = filtered1.map(s => s._1.cast(LongType)).reduce((x,y) => hashThis(a, b, x) min hashThis(a, b, y) )\n",
    "    \n",
    "    doc_signature(i) = min\n",
    "    println(min)\n",
    "    \n",
    "}"
   ]
  },
  {
   "cell_type": "code",
   "execution_count": null,
   "metadata": {},
   "outputs": [],
   "source": []
  }
 ],
 "metadata": {
  "kernelspec": {
   "display_name": "Spark - Scala",
   "language": "scala",
   "name": "spark_scala"
  },
  "language_info": {
   "codemirror_mode": "text/x-scala",
   "file_extension": ".scala",
   "mimetype": "text/x-scala",
   "name": "scala",
   "pygments_lexer": "scala",
   "version": "2.11.12"
  }
 },
 "nbformat": 4,
 "nbformat_minor": 2
}
