{
 "cells": [
  {
   "cell_type": "code",
   "execution_count": 24,
   "metadata": {},
   "outputs": [
    {
     "data": {
      "text/plain": [
       "fileName1 = dataset_abstracts/a9000006.txt\n",
       "fileName2 = dataset_abstracts/a9000031.txt\n",
       "rows1 = MapPartitionsRDD[50] at map at <console>:35\n",
       "text1 = Commercial exploitation over the past two hundred years drovethe great Mysticete whales to near extinction. Variation inthe sizes of populations prior to exploitation, minimalpopulation size during exploitation and current populationsizes permit analyses of the effects of differing levels ofexploitation on species with different biogeographicaldistributions and life-history characteristics. Dr. StephenPalumbi at the University of Hawaii will study the geneticpopulation structure of three whale species in this context,the Humpback Whale, the Gray Whale and the Bowhead Whale. Theeffect of...\n"
      ]
     },
     "metadata": {},
     "output_type": "display_data"
    },
    {
     "data": {
      "text/plain": [
       "Commercial exploitation over the past two hundred years drovethe great Mysticete whales to near extinction. Variation inthe sizes of populations prior to exploitation, minimalpopulation size during exploitation and current populationsizes permit analyses of the effects of differing levels ofexploitation on species with different biogeographicaldistributions and life-history characteristics. Dr. StephenPalumbi at the University of Hawaii will study the geneticpopulation structure of three whale species in this context,the Humpback Whale, the Gray Whale and the Bowhead Whale. Theeffect of..."
      ]
     },
     "execution_count": 24,
     "metadata": {},
     "output_type": "execute_result"
    }
   ],
   "source": [
    "//input\n",
    "val fileName1 = \"dataset_abstracts/a9000006.txt\"\n",
    "val fileName2 = \"dataset_abstracts/a9000031.txt\"\n",
    "\n",
    "val rows1 = sc.textFile(fileName1).map(line=>line.trim().replaceAll(\"(\\\\s)+\", \" \")).cache()\n",
    "val text1 = rows1.reduce(_ + _)\n",
    "\n",
    "val rows2 = sc.textFile(fileName1).map(line=>line.trim().replaceAll(\"(\\\\s)+\", \" \")).cache()\n",
    "val text2 = rows2.reduce(_ + _)"
   ]
  },
  {
   "cell_type": "code",
   "execution_count": 53,
   "metadata": {},
   "outputs": [
    {
     "data": {
      "text/plain": [
       "k = 5\n",
       "k_gram1 = List((-368554769,\"\"), (-2116654235,\"\"), (1348093184,\"\"), (-713942165,\"\"), (154171951,\"\"), (-1539835203,\"\"), (621014717,\"\"), (-702057327,\"\"), (1061980120,\"\"), (-1210501041,\"\"), (-1777376094,\"\"), (-2146599456,\"\"), (1638764184,\"\"), (2132630876,\"\"), (-558803310,\"\"), (-1704996955,\"\"), (1554848983,\"\"), (-643897612,\"\"), (277879516,\"\"), (1658643371,\"\"), (-239693190,\"\"), (-1096516904,\"\"), (1369629706,\"\"), (2053951917,\"\"), (1404211726,\"\"), (-496476476,\"\"), (66848233,\"\"), (-297738899,\"\"), (1003038978,\"\"), (229228928,\"\"), (-120662840,\"\"), (1068215916,\"\"), (-475916955,\"\"), (-443907787,\"\"), (2075776880,\"\"), (230583223,\"\"), (1330534066,\"\"), (-1120787669,\"\"), (-1584074738,\"\"), (-1702092513,\"\"), (1354781654,\"\"), (-1494390031,\"\"), (-310258093,\"\"), (1911875298,\"\")...\n"
      ]
     },
     "metadata": {},
     "output_type": "display_data"
    },
    {
     "data": {
      "text/plain": [
       "List((-368554769,\"\"), (-2116654235,\"\"), (1348093184,\"\"), (-713942165,\"\"), (154171951,\"\"), (-1539835203,\"\"), (621014717,\"\"), (-702057327,\"\"), (1061980120,\"\"), (-1210501041,\"\"), (-1777376094,\"\"), (-2146599456,\"\"), (1638764184,\"\"), (2132630876,\"\"), (-558803310,\"\"), (-1704996955,\"\"), (1554848983,\"\"), (-643897612,\"\"), (277879516,\"\"), (1658643371,\"\"), (-239693190,\"\"), (-1096516904,\"\"), (1369629706,\"\"), (2053951917,\"\"), (1404211726,\"\"), (-496476476,\"\"), (66848233,\"\"), (-297738899,\"\"), (1003038978,\"\"), (229228928,\"\"), (-120662840,\"\"), (1068215916,\"\"), (-475916955,\"\"), (-443907787,\"\"), (2075776880,\"\"), (230583223,\"\"), (1330534066,\"\"), (-1120787669,\"\"), (-1584074738,\"\"), (-1702092513,\"\"), (1354781654,\"\"), (-1494390031,\"\"), (-310258093,\"\"), (1911875298,\"\")..."
      ]
     },
     "execution_count": 53,
     "metadata": {},
     "output_type": "execute_result"
    }
   ],
   "source": [
    "//k-gram\n",
    "val k = 5\n",
    "val k_gram1 = text1.split(\"\").sliding(k).toList.map(x => (scala.util.hashing.MurmurHash3.arrayHash(x), \"\"))\n",
    "val kgramRDD1 = sc.parallelize(k_gram1)\n",
    "val filtered1 = kgramRDD1.distinct()\n",
    "\n",
    "val k_gram2 = text2.split(\"\").sliding(k).toList.map(x => (scala.util.hashing.MurmurHash3.arrayHash(x), \"\"))\n",
    "val kgramRDD2 = sc.parallelize(k_gram2)\n",
    "val filtered2 = kgramRDD2.distinct()\n",
    "\n",
    "\n"
   ]
  },
  {
   "cell_type": "code",
   "execution_count": 66,
   "metadata": {},
   "outputs": [
    {
     "name": "stdout",
     "output_type": "stream",
     "text": [
      "1049\n",
      "1049\n",
      "1049.0\n",
      "1053.0\n",
      "0.99620134\n",
      "0.0037986636\n"
     ]
    },
    {
     "data": {
      "text/plain": [
       "join = MapPartitionsRDD[227] at leftOuterJoin at <console>:37\n",
       "join_n = 1049.0\n",
       "union = MapPartitionsRDD[231] at distinct at <console>:39\n",
       "union_n = 1053.0\n",
       "sim = 0.99620134\n",
       "jacc_dist = 0.0037986636\n"
      ]
     },
     "metadata": {},
     "output_type": "display_data"
    },
    {
     "data": {
      "text/plain": [
       "0.0037986636"
      ]
     },
     "execution_count": 66,
     "metadata": {},
     "output_type": "execute_result"
    }
   ],
   "source": [
    "println(filtered1.count())\n",
    "println(filtered2.count())\n",
    "val join = filtered1.leftOuterJoin(filtered2)\n",
    "val join_n = join.count().toFloat\n",
    "val union = filtered1.union(filtered2).distinct()\n",
    "val union_n = union.count().toFloat\n",
    "\n",
    "val sim = join_n / union_n\n",
    "val jacc_dist = 1-sim\n",
    "\n",
    "println(join_n)\n",
    "println(union_n)\n",
    "\n",
    "println(sim)\n",
    "println(jacc_dist)\n"
   ]
  },
  {
   "cell_type": "markdown",
   "metadata": {},
   "source": [
    "Now we work with Min-hashing"
   ]
  },
  {
   "cell_type": "code",
   "execution_count": null,
   "metadata": {},
   "outputs": [],
   "source": [
    "//Min-hashing\n",
    "\n",
    "val data = Array()\n",
    "data.\n"
   ]
  }
 ],
 "metadata": {
  "kernelspec": {
   "display_name": "Spark - Scala",
   "language": "scala",
   "name": "spark_scala"
  },
  "language_info": {
   "codemirror_mode": "text/x-scala",
   "file_extension": ".scala",
   "mimetype": "text/x-scala",
   "name": "scala",
   "pygments_lexer": "scala",
   "version": "2.11.12"
  }
 },
 "nbformat": 4,
 "nbformat_minor": 2
}
