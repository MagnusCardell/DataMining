{
 "cells": [
  {
   "cell_type": "markdown",
   "metadata": {},
   "source": [
    "This notebook caluclates frequent itemsets from data provided in format of collections of items. \n",
    "\n",
    "e.g.\n",
    "\n",
    "177 339 560 606 653 894 911 \n",
    "139 229 290 401 440 482 509 581 631 740 \n",
    "7 154 381 597 631 722 752 812 844 853 859 982 \n",
    "116 125 161 217 346 368 561 573 580 653 888 \n",
    "8 467 684 690 911 \n",
    "\n",
    "Each row is parsed to look for items bought together, starting with k=1. We define an \"apriori()\" recursive function that continuously accumulate frequent itemsets at each k, until no more viable candidates are found. This accumulated Set is then returned.\n",
    "\n"
   ]
  },
  {
   "cell_type": "code",
   "execution_count": 1,
   "metadata": {},
   "outputs": [
    {
     "name": "stdout",
     "output_type": "stream",
     "text": [
      "1000.0\n"
     ]
    },
    {
     "data": {
      "text/plain": [
       "dataFile = List(Set(730, 538, 25, 52, 448, 164, 834, 687, 825, 561, 630, 328, 274, 240, 368, 775), Set(120, 814, 834, 825, 124, 205, 704, 39, 581, 401), Set(249, 674, 733, 35, 712, 759, 950, 854), Set(449, 937, 825, 857, 704, 39, 895, 964, 954, 422), Set(352, 853, 966, 766, 381, 229, 738, 883, 978, 262, 294, 283, 15, 708), Set(320, 798, 569, 143, 104, 26, 620), Set(809, 185, 782, 849, 529, 682, 970, 947, 350, 979, 7, 883, 658, 214), Set(227, 390), Set(333, 597, 280, 529, 192, 674, 530, 618, 279, 71, 208, 932, 675, 855, 914, 272, 300, 720, 496), Set(217, 276, 878, 512, 529, 256, 193, 706, 483, 626, 653, 374, 939, 183, 474, 277, 496), Set(597, 853, 623, 766, 910, 424, 161, 490, 795, 177, 175,...\n"
      ]
     },
     "metadata": {},
     "output_type": "display_data"
    },
    {
     "data": {
      "text/plain": [
       "List(Set(730, 538, 25, 52, 448, 164, 834, 687, 825, 561, 630, 328, 274, 240, 368, 775), Set(120, 814, 834, 825, 124, 205, 704, 39, 581, 401), Set(249, 674, 733, 35, 712, 759, 950, 854), Set(449, 937, 825, 857, 704, 39, 895, 964, 954, 422), Set(352, 853, 966, 766, 381, 229, 738, 883, 978, 262, 294, 283, 15, 708), Set(320, 798, 569, 143, 104, 26, 620), Set(809, 185, 782, 849, 529, 682, 970, 947, 350, 979, 7, 883, 658, 214), Set(227, 390), Set(333, 597, 280, 529, 192, 674, 530, 618, 279, 71, 208, 932, 675, 855, 914, 272, 300, 720, 496), Set(217, 276, 878, 512, 529, 256, 193, 706, 483, 626, 653, 374, 939, 183, 474, 277, 496), Set(597, 853, 623, 766, 910, 424, 161, 490, 795, 177, 175,..."
      ]
     },
     "execution_count": 1,
     "metadata": {},
     "output_type": "execute_result"
    }
   ],
   "source": [
    "import scala.io.Source\n",
    "import scala.collection.mutable\n",
    "val dataFile = Source.fromFile(\"T10I4D100K.dat\").getLines.map(row => row.split(\" \").map(item => item.toInt).toSet).toList\n",
    "//dataFile.foreach(println)\n",
    "val support = 0.01 * dataFile.size\n",
    "println(support)\n",
    "\n",
    "val allItems = dataFile.flatMap(y => y).distinct.map(item => Set(item)).toSet\n",
    "//allItems.foreach(println)\n"
   ]
  },
  {
   "cell_type": "code",
   "execution_count": 6,
   "metadata": {},
   "outputs": [
    {
     "data": {
      "text/plain": [
       "apriori: (C_prev: Set[Set[Int]], accumulator: Set[Set[Int]], k: Int, support: Double)Set[Set[Int]]\n"
      ]
     },
     "metadata": {},
     "output_type": "display_data"
    }
   ],
   "source": [
    "\n",
    "def apriori(C_prev: Set[Set[Int]], accumulator: Set[Set[Int]], k:Int, support: Double): Set[Set[Int]] = {\n",
    "    val C_k = C_prev.flatMap(y => y).subsets(k).toSet\n",
    "    var C_map = mutable.Map[Set[Int], Int]()\n",
    "    C_k.map(item => C_map.put(item, 0))\n",
    "    dataFile.foreach(row => C_k.foreach(candidate => if(candidate.subsetOf(row)) C_map(candidate) += 1))\n",
    "    val C_t = C_map.filter(kv => kv._2 >= support).keys.toSet\n",
    "    \n",
    "    if(C_t.nonEmpty) apriori(C_t, accumulator ++ C_t, k+1, support) else return accumulator\n",
    "}\n"
   ]
  },
  {
   "cell_type": "code",
   "execution_count": null,
   "metadata": {},
   "outputs": [],
   "source": []
  },
  {
   "cell_type": "code",
   "execution_count": 7,
   "metadata": {},
   "outputs": [
    {
     "name": "stdout",
     "output_type": "stream",
     "text": [
      "(Set(285),2600.0)\n",
      "(Set(780),2306.0)\n",
      "(Set(266),1022.0)\n",
      "(Set(112),2680.0)\n",
      "(Set(208),1483.0)\n",
      "(Set(183),3883.0)\n",
      "(Set(567),1102.0)\n",
      "(Set(984),1756.0)\n",
      "(Set(825, 704),1102.0)\n",
      "(Set(765),1705.0)\n",
      "(Set(240),1399.0)\n",
      "(Set(116),2193.0)\n",
      "(Set(735),1689.0)\n",
      "(Set(897),1935.0)\n",
      "(Set(145),4559.0)\n",
      "(Set(661),2693.0)\n",
      "(Set(468),1089.0)\n",
      "(Set(716),1199.0)\n",
      "(Set(239),2742.0)\n",
      "(Set(815),1358.0)\n",
      "(Set(111),1171.0)\n",
      "(Set(578),1290.0)\n",
      "(Set(227),1818.0)\n",
      "(Set(639),1572.0)\n",
      "(Set(814),1672.0)\n",
      "(Set(494),5102.0)\n",
      "(Set(803),2237.0)\n",
      "(Set(429),1037.0)\n",
      "(Set(825, 704, 39),1035.0)\n",
      "(Set(623),1845.0)\n",
      "(Set(910),1695.0)\n",
      "(Set(580),1667.0)\n",
      "(Set(10),1351.0)\n",
      "(Set(438),4511.0)\n",
      "(Set(846),1480.0)\n",
      "(Set(368),7828.0)\n",
      "(Set(563),1065.0)\n",
      "(Set(423),1412.0)\n",
      "(Set(104),1158.0)\n",
      "(Set(85),1555.0)\n",
      "(Set(336),1071.0)\n",
      "(Set(471),2894.0)\n",
      "(Set(308),1402.0)\n",
      "(Set(125),1287.0)\n",
      "(Set(932),1786.0)\n",
      "(Set(825),3085.0)\n",
      "(Set(349),2041.0)\n",
      "(Set(207),1214.0)\n",
      "(Set(800),1916.0)\n",
      "(Set(722, 390),1042.0)\n",
      "(Set(130),1711.0)\n",
      "(Set(8),3090.0)\n",
      "(Set(39),4258.0)\n",
      "(Set(890),1437.0)\n",
      "(Set(540),1293.0)\n",
      "(Set(746),1982.0)\n",
      "(Set(214),1893.0)\n",
      "(Set(752),2578.0)\n",
      "(Set(718),1238.0)\n",
      "(Set(998),2713.0)\n",
      "(Set(55),1959.0)\n",
      "(Set(526),2793.0)\n",
      "(Set(641),1494.0)\n",
      "(Set(440),1943.0)\n",
      "(Set(97),1466.0)\n",
      "(Set(12),3415.0)\n",
      "(Set(390, 227),1049.0)\n",
      "(Set(620),2100.0)\n",
      "(Set(236),2618.0)\n",
      "(Set(775),3771.0)\n",
      "(Set(653),2634.0)\n",
      "(Set(161),2320.0)\n",
      "(Set(265),1359.0)\n",
      "(Set(948),1149.0)\n",
      "(Set(992),1116.0)\n",
      "(Set(105),1100.0)\n",
      "(Set(335),1345.0)\n",
      "(Set(844),2814.0)\n",
      "(Set(527),1185.0)\n",
      "(Set(294),1445.0)\n",
      "(Set(859),1242.0)\n",
      "(Set(521),1582.0)\n",
      "(Set(919),3710.0)\n",
      "(Set(988),1164.0)\n",
      "(Set(413),2637.0)\n",
      "(Set(937),4681.0)\n",
      "(Set(804),1315.0)\n",
      "(Set(569),2835.0)\n",
      "(Set(581),2943.0)\n",
      "(Set(982),1640.0)\n",
      "(Set(854),2847.0)\n",
      "(Set(975),1764.0)\n",
      "(Set(631),2793.0)\n",
      "(Set(513),1287.0)\n",
      "(Set(310),1390.0)\n",
      "(Set(385),1676.0)\n",
      "(Set(52),1983.0)\n",
      "(Set(606),2668.0)\n",
      "(Set(25),1395.0)\n",
      "(Set(867),1530.0)\n",
      "(Set(720),3864.0)\n",
      "(Set(793),3063.0)\n",
      "(Set(163),1256.0)\n",
      "(Set(658),1881.0)\n",
      "(Set(598),3219.0)\n",
      "(Set(460),4438.0)\n",
      "(Set(738),2129.0)\n",
      "(Set(58),1330.0)\n",
      "(Set(204),2174.0)\n",
      "(Set(450),2082.0)\n",
      "(Set(952),1574.0)\n",
      "(Set(774),2046.0)\n",
      "(Set(486),1547.0)\n",
      "(Set(978),1141.0)\n",
      "(Set(795),3361.0)\n",
      "(Set(790),1094.0)\n",
      "(Set(71),3507.0)\n",
      "(Set(69),2370.0)\n",
      "(Set(377),1149.0)\n",
      "(Set(766),6265.0)\n",
      "(Set(140),2687.0)\n",
      "(Set(888),3686.0)\n",
      "(Set(710),1044.0)\n",
      "(Set(841),1927.0)\n",
      "(Set(778),2514.0)\n",
      "(Set(966),3921.0)\n",
      "(Set(548),2843.0)\n",
      "(Set(991),1268.0)\n",
      "(Set(129),1547.0)\n",
      "(Set(126),1075.0)\n",
      "(Set(554),1114.0)\n",
      "(Set(694),2847.0)\n",
      "(Set(798),3103.0)\n",
      "(Set(708),1090.0)\n",
      "(Set(862),3649.0)\n",
      "(Set(883),4902.0)\n",
      "(Set(373),2007.0)\n",
      "(Set(704, 39),1107.0)\n",
      "(Set(470),4137.0)\n",
      "(Set(461),1498.0)\n",
      "(Set(322),1154.0)\n",
      "(Set(789),4309.0)\n",
      "(Set(175),2791.0)\n",
      "(Set(242),2325.0)\n",
      "(Set(54),2595.0)\n",
      "(Set(686),1495.0)\n",
      "(Set(947),3690.0)\n",
      "(Set(419),5057.0)\n",
      "(Set(853),1804.0)\n",
      "(Set(534),1531.0)\n",
      "(Set(618),1337.0)\n",
      "(Set(210),2009.0)\n",
      "(Set(886),3053.0)\n",
      "(Set(35),1984.0)\n",
      "(Set(782),2767.0)\n",
      "(Set(918),3012.0)\n",
      "(Set(665),1297.0)\n",
      "(Set(638),2288.0)\n",
      "(Set(981),1542.0)\n",
      "(Set(900),1165.0)\n",
      "(Set(529),7057.0)\n",
      "(Set(346),3470.0)\n",
      "(Set(157),1140.0)\n",
      "(Set(48),2472.0)\n",
      "(Set(45),1728.0)\n",
      "(Set(674),2527.0)\n",
      "(Set(414),1160.0)\n",
      "(Set(381),2959.0)\n",
      "(Set(72),2852.0)\n",
      "(Set(946),1350.0)\n",
      "(Set(469),1502.0)\n",
      "(Set(75),3151.0)\n",
      "(Set(928),1034.0)\n",
      "(Set(688),1132.0)\n",
      "(Set(276),2479.0)\n",
      "(Set(809),2163.0)\n",
      "(Set(422),1255.0)\n",
      "(Set(17),1683.0)\n",
      "(Set(154),1447.0)\n",
      "(Set(283),4082.0)\n",
      "(Set(572),1589.0)\n",
      "(Set(630),1523.0)\n",
      "(Set(797),2684.0)\n",
      "(Set(387),2089.0)\n",
      "(Set(810),1267.0)\n",
      "(Set(366),1031.0)\n",
      "(Set(826),2022.0)\n",
      "(Set(296),2210.0)\n",
      "(Set(893),1947.0)\n",
      "(Set(362),4388.0)\n",
      "(Set(820),1473.0)\n",
      "(Set(860),1255.0)\n",
      "(Set(326),1488.0)\n",
      "(Set(649),1292.0)\n",
      "(Set(511),1015.0)\n",
      "(Set(120),4973.0)\n",
      "(Set(504),1296.0)\n",
      "(Set(740),1632.0)\n",
      "(Set(173),1080.0)\n",
      "(Set(229),2281.0)\n",
      "(Set(217),5375.0)\n",
      "(Set(170),1203.0)\n",
      "(Set(196),2096.0)\n",
      "(Set(523),2244.0)\n",
      "(Set(874),2237.0)\n",
      "(Set(829),6810.0)\n",
      "(Set(201),1029.0)\n",
      "(Set(185),1529.0)\n",
      "(Set(517),1201.0)\n",
      "(Set(110),1801.0)\n",
      "(Set(32),4248.0)\n",
      "(Set(290),1793.0)\n",
      "(Set(573),1229.0)\n",
      "(Set(343),1599.0)\n",
      "(Set(510),3281.0)\n",
      "(Set(541),3735.0)\n",
      "(Set(784),1257.0)\n",
      "(Set(274),2628.0)\n",
      "(Set(516),1544.0)\n",
      "(Set(33),1460.0)\n",
      "(Set(964),1518.0)\n",
      "(Set(168),1538.0)\n",
      "(Set(132),2641.0)\n",
      "(Set(378),1149.0)\n",
      "(Set(678),1329.0)\n",
      "(Set(935),1742.0)\n",
      "(Set(617),2614.0)\n",
      "(Set(147),1383.0)\n",
      "(Set(43),1721.0)\n",
      "(Set(593),2601.0)\n",
      "(Set(583),1389.0)\n",
      "(Set(706),1923.0)\n",
      "(Set(963),1327.0)\n",
      "(Set(259),1522.0)\n",
      "(Set(673),1635.0)\n",
      "(Set(530),1263.0)\n",
      "(Set(449),1890.0)\n",
      "(Set(258),1036.0)\n",
      "(Set(477),2462.0)\n",
      "(Set(722),5845.0)\n",
      "(Set(192),2004.0)\n",
      "(Set(143),1417.0)\n",
      "(Set(401),3667.0)\n",
      "(Set(122),1081.0)\n",
      "(Set(392),2420.0)\n",
      "(Set(217, 346),1336.0)\n",
      "(Set(895),3385.0)\n",
      "(Set(921),2425.0)\n",
      "(Set(41),1353.0)\n",
      "(Set(628),1102.0)\n",
      "(Set(914),4037.0)\n",
      "(Set(500),1444.0)\n",
      "(Set(38),2402.0)\n",
      "(Set(57),2743.0)\n",
      "(Set(733),1141.0)\n",
      "(Set(332),1861.0)\n",
      "(Set(351),1641.0)\n",
      "(Set(197),1230.0)\n",
      "(Set(354),5835.0)\n",
      "(Set(234),1416.0)\n",
      "(Set(496),1428.0)\n",
      "(Set(171),1097.0)\n",
      "(Set(538),3982.0)\n",
      "(Set(177),4629.0)\n",
      "(Set(707),1354.0)\n",
      "(Set(51),1612.0)\n",
      "(Set(600),1192.0)\n",
      "(Set(769),1622.0)\n",
      "(Set(611),1444.0)\n",
      "(Set(704),1794.0)\n",
      "(Set(676),2717.0)\n",
      "(Set(995),1521.0)\n",
      "(Set(825, 39),1187.0)\n",
      "(Set(350),3069.0)\n",
      "(Set(687),1762.0)\n",
      "(Set(489),3420.0)\n",
      "(Set(309),1262.0)\n",
      "(Set(78),2471.0)\n",
      "(Set(6),2149.0)\n",
      "(Set(458),1124.0)\n",
      "(Set(960),2732.0)\n",
      "(Set(490),1066.0)\n",
      "(Set(319),1371.0)\n",
      "(Set(522),2725.0)\n",
      "(Set(634),2492.0)\n",
      "(Set(805),1789.0)\n",
      "(Set(591),1241.0)\n",
      "(Set(280),2108.0)\n",
      "(Set(594),1516.0)\n",
      "(Set(334),2146.0)\n",
      "(Set(684),5408.0)\n",
      "(Set(427),1856.0)\n",
      "(Set(577),1695.0)\n",
      "(Set(906),1444.0)\n",
      "(Set(912),1009.0)\n",
      "(Set(832),2062.0)\n",
      "(Set(428),1021.0)\n",
      "(Set(181),1235.0)\n",
      "(Set(597),2883.0)\n",
      "(Set(411),2047.0)\n",
      "(Set(829, 368),1194.0)\n",
      "(Set(405),1525.0)\n",
      "(Set(614),3134.0)\n",
      "(Set(812),1518.0)\n",
      "(Set(37),1249.0)\n",
      "(Set(944),2794.0)\n",
      "(Set(788),2386.0)\n",
      "(Set(561),2783.0)\n",
      "(Set(749),1330.0)\n",
      "(Set(605),1652.0)\n",
      "(Set(448),1370.0)\n",
      "(Set(472),2125.0)\n",
      "(Set(424),1448.0)\n",
      "(Set(27),2165.0)\n",
      "(Set(325),1022.0)\n",
      "(Set(701),1283.0)\n",
      "(Set(736),1470.0)\n",
      "(Set(576),1337.0)\n",
      "(Set(100),1749.0)\n",
      "(Set(834),1373.0)\n",
      "(Set(390),2685.0)\n",
      "(Set(275),1692.0)\n",
      "(Set(31),1666.0)\n",
      "(Set(651),1288.0)\n",
      "(Set(205),3605.0)\n",
      "(Set(162),1450.0)\n",
      "(Set(94),1201.0)\n",
      "(Set(550),1203.0)\n",
      "(Set(663),2354.0)\n",
      "(Set(829, 789),1194.0)\n",
      "(Set(823),1031.0)\n",
      "(Set(357),1142.0)\n",
      "(Set(871),2810.0)\n",
      "(Set(682, 368),1193.0)\n",
      "(Set(28),1454.0)\n",
      "(Set(878),2047.0)\n",
      "(Set(758),2860.0)\n",
      "(Set(887),1671.0)\n",
      "(Set(989),1289.0)\n",
      "(Set(5),1094.0)\n",
      "(Set(403),1722.0)\n",
      "(Set(151),2611.0)\n",
      "(Set(884),1645.0)\n",
      "(Set(899),1252.0)\n",
      "(Set(68),1601.0)\n",
      "(Set(571),2902.0)\n",
      "(Set(21),2666.0)\n",
      "(Set(632),1070.0)\n",
      "(Set(574),1297.0)\n",
      "(Set(4),1394.0)\n",
      "(Set(675),2976.0)\n",
      "(Set(115),1775.0)\n",
      "(Set(361),1104.0)\n",
      "(Set(843),1222.0)\n",
      "(Set(73),2179.0)\n",
      "(Set(692),4993.0)\n",
      "(Set(950),1463.0)\n",
      "(Set(913),1939.0)\n",
      "(Set(682),4132.0)\n",
      "(Set(90),1875.0)\n",
      "(Set(93),2777.0)\n",
      "(Set(480),2309.0)\n",
      "(Set(792),1306.0)\n",
      "(Set(744),2177.0)\n",
      "(Set(546),1050.0)\n",
      "(Set(279),3014.0)\n",
      "(Set(509),3044.0)\n",
      "(Set(970),2086.0)\n",
      "(Set(819),1257.0)\n",
      "(Set(515),1166.0)\n",
      "(Set(487),3135.0)\n",
      "(Set(967),1695.0)\n",
      "(Set(941),1126.0)\n",
      "(Set(949),1414.0)\n",
      "(Set(198),1461.0)\n",
      "(Set(579),2164.0)\n",
      "(Set(956),3626.0)\n",
      "(Set(394),1145.0)\n",
      "(Set(1),1535.0)\n",
      "(Set(923),1753.0)\n",
      "(Set(885),3043.0)\n",
      "(Set(70),2411.0)\n",
      "(Set(857),1588.0)\n",
      "(Set(763),1862.0)\n",
      "(Set(348),1226.0)\n"
     ]
    },
    {
     "data": {
      "text/plain": [
       "freqItemSet = Set(Set(196), Set(883), Set(258), Set(239), Set(569), Set(710), Set(825, 704, 39), Set(12), Set(240), Set(52), Set(593), Set(428), Set(736), Set(204), Set(890), Set(173), Set(744), Set(628), Set(422), Set(932), Set(486), Set(511), Set(405), Set(510), Set(946), Set(740), Set(966), Set(21), Set(550), Set(641), Set(859), Set(675), Set(910), Set(775), Set(829), Set(554), Set(769), Set(722), Set(573), Set(687), Set(935), Set(72), Set(283), Set(815), Set(854), Set(658), Set(800), Set(758), Set(947), Set(988), Set(826), Set(51), Set(361), Set(496), Set(809), Set(458), Set(242), Set(820), Set(4), Set(411), Set(722, 390), Set(860), Set(540), Set(989), Set(163), Set(941), Set(310), Set(78), Set(274), Set(563), Set(448), Set(765), Set(68), Set(688), Set(145), Set(706),...\n"
      ]
     },
     "metadata": {},
     "output_type": "display_data"
    },
    {
     "data": {
      "text/plain": [
       "Set(Set(196), Set(883), Set(258), Set(239), Set(569), Set(710), Set(825, 704, 39), Set(12), Set(240), Set(52), Set(593), Set(428), Set(736), Set(204), Set(890), Set(173), Set(744), Set(628), Set(422), Set(932), Set(486), Set(511), Set(405), Set(510), Set(946), Set(740), Set(966), Set(21), Set(550), Set(641), Set(859), Set(675), Set(910), Set(775), Set(829), Set(554), Set(769), Set(722), Set(573), Set(687), Set(935), Set(72), Set(283), Set(815), Set(854), Set(658), Set(800), Set(758), Set(947), Set(988), Set(826), Set(51), Set(361), Set(496), Set(809), Set(458), Set(242), Set(820), Set(4), Set(411), Set(722, 390), Set(860), Set(540), Set(989), Set(163), Set(941), Set(310), Set(78), Set(274), Set(563), Set(448), Set(765), Set(68), Set(688), Set(145), Set(706),..."
      ]
     },
     "execution_count": 7,
     "metadata": {},
     "output_type": "execute_result"
    }
   ],
   "source": [
    "val freqItemSet = apriori(allItems, Set(), 1, support)\n",
    "//freqItemSet.foreach(println)\n",
    "\n",
    "var freqItemSet_support = mutable.Map[Set[Int], Double]()\n",
    "freqItemSet.map(item => freqItemSet_support.put(item, 0.0))\n",
    "dataFile.foreach(row => freqItemSet.foreach(candidate => if(candidate.subsetOf(row)) freqItemSet_support(candidate) += 1.0))\n",
    "freqItemSet_support.foreach(println)"
   ]
  },
  {
   "cell_type": "code",
   "execution_count": null,
   "metadata": {},
   "outputs": [],
   "source": []
  },
  {
   "cell_type": "code",
   "execution_count": 6,
   "metadata": {},
   "outputs": [
    {
     "name": "stdout",
     "output_type": "stream",
     "text": [
      "(Set(825, 704),1102.0)\n",
      "(Set(825, 704, 39),1035.0)\n",
      "(Set(722, 390),1042.0)\n",
      "(Set(390, 227),1049.0)\n",
      "(Set(704, 39),1107.0)\n",
      "(Set(217, 346),1336.0)\n",
      "(Set(825, 39),1187.0)\n",
      "(Set(829, 368),1194.0)\n",
      "(Set(682, 368),1193.0)\n",
      "(Set(829, 789),1194.0)\n"
     ]
    },
    {
     "data": {
      "text/plain": [
       "perm_c = Set(Set(825, 704, 39), Set(722, 390), Set(829, 368), Set(704, 39), Set(829, 789), Set(390, 227), Set(682, 368), Set(825, 39), Set(217, 346), Set(825, 704))\n",
       "perm_c_support = Map(Set(825, 704) -> 1102.0, Set(825, 704, 39) -> 1035.0, Set(722, 390) -> 1042.0, Set(390, 227) -> 1049.0, Set(704, 39) -> 1107.0, Set(217, 346) -> 1336.0, Set(825, 39) -> 1187.0, Set(829, 368) -> 1194.0, Set(682, 368) -> 1193.0, Set(829, 789) -> 1194.0)\n"
      ]
     },
     "metadata": {},
     "output_type": "display_data"
    },
    {
     "data": {
      "text/plain": [
       "Map(Set(825, 704) -> 1102.0, Set(825, 704, 39) -> 1035.0, Set(722, 390) -> 1042.0, Set(390, 227) -> 1049.0, Set(704, 39) -> 1107.0, Set(217, 346) -> 1336.0, Set(825, 39) -> 1187.0, Set(829, 368) -> 1194.0, Set(682, 368) -> 1193.0, Set(829, 789) -> 1194.0)"
      ]
     },
     "execution_count": 6,
     "metadata": {},
     "output_type": "execute_result"
    }
   ],
   "source": [
    "val perm_c = freqItemSet.filter(item => item.size > 1)\n",
    "var perm_c_support = mutable.Map[Set[Int], Double]()\n",
    "perm_c.map(item => perm_c_support.put(item, 0.0))\n",
    "dataFile.foreach(row => perm_c.foreach(candidate => if(candidate.subsetOf(row)) perm_c_support(candidate) += 1.0))\n",
    "perm_c_support.foreach(println)\n",
    "\n",
    "\n"
   ]
  },
  {
   "cell_type": "code",
   "execution_count": 4,
   "metadata": {},
   "outputs": [
    {
     "data": {
      "text/plain": [
       "find_association_rule: (key: Set[Int])Set[(Set[Int], Set[Int], Double)]\n"
      ]
     },
     "metadata": {},
     "output_type": "display_data"
    }
   ],
   "source": [
    "def find_association_rule(key: Set[Int]) : Set[(Set[Int], Set[Int], Double)] = {\n",
    "    val max_size = key.size\n",
    "    val temp_key = key.toSet\n",
    "    val n_element_perm = temp_key.subsets.filter(item => item.size > 0 && item.size < max_size).toSet\n",
    "    var n_element_perm_support = mutable.Map[Set[Int], Double]()\n",
    "    n_element_perm.map(item => n_element_perm_support.put(item, 0.0))\n",
    "    \n",
    "    dataFile.foreach(row => n_element_perm.foreach(candidate => if(candidate.subsetOf(row)) n_element_perm_support(candidate) += 1.0))\n",
    "    val n_element_conf = n_element_perm_support.map(entry => (entry._1, perm_c_support(temp_key)/entry._2))\n",
    "    \n",
    "    val n_element_association = n_element_conf.map(entry => (entry._1, temp_key.diff(entry._1), entry._2)).toSet\n",
    "    \n",
    "    return n_element_association\n",
    "}\n",
    "\n",
    "\n",
    "\n"
   ]
  },
  {
   "cell_type": "code",
   "execution_count": 5,
   "metadata": {},
   "outputs": [
    {
     "name": "stdout",
     "output_type": "stream",
     "text": [
      "(Set(825, 704),Set(39),0.9392014519056261)\n",
      "(Set(704, 39),Set(825),0.9349593495934959)\n",
      "(Set(704),Set(825, 39),0.5769230769230769)\n",
      "(Set(227),Set(390),0.577007700770077)\n",
      "(Set(704),Set(39),0.617056856187291)\n",
      "(Set(825, 39),Set(704),0.8719460825610783)\n",
      "(Set(704),Set(825),0.6142697881828316)\n"
     ]
    },
    {
     "data": {
      "text/plain": [
       "c = 0.5\n"
      ]
     },
     "metadata": {},
     "output_type": "display_data"
    },
    {
     "data": {
      "text/plain": [
       "association_rule: Unit = ()\n"
      ]
     },
     "metadata": {},
     "output_type": "display_data"
    },
    {
     "data": {
      "text/plain": [
       "0.5"
      ]
     },
     "execution_count": 5,
     "metadata": {},
     "output_type": "execute_result"
    }
   ],
   "source": [
    "val c = 0.5\n",
    "val association_rule = perm_c.map(entry => find_association_rule(entry)).flatMap(y => y).filter(entry => entry._3 >= c).foreach(println)\n",
    "\n"
   ]
  },
  {
   "cell_type": "code",
   "execution_count": null,
   "metadata": {},
   "outputs": [],
   "source": []
  }
 ],
 "metadata": {
  "kernelspec": {
   "display_name": "Spark - Scala",
   "language": "scala",
   "name": "spark_scala"
  },
  "language_info": {
   "codemirror_mode": "text/x-scala",
   "file_extension": ".scala",
   "mimetype": "text/x-scala",
   "name": "scala",
   "pygments_lexer": "scala",
   "version": "2.11.12"
  }
 },
 "nbformat": 4,
 "nbformat_minor": 2
}
